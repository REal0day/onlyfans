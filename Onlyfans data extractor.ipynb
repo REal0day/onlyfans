{
 "cells": [
  {
   "cell_type": "code",
   "execution_count": 1,
   "metadata": {},
   "outputs": [],
   "source": [
    "from bs4 import BeautifulSoup\n",
    "import numpy as np\n",
    "import pprint as pp\n",
    "import urllib\n",
    "import os\n",
    "import json\n",
    "\n",
    "\n",
    "def duplicate_deleter(path):\n",
    "    \"\"\" Deletes all duplicate html files in the specifeid path\"\"\"\n",
    "    files = [f for f in os.listdir(path) if '.html' in f]\n",
    "    for file in files:\n",
    "        if '(' and ')' in file:\n",
    "            os.remove(os.path.join(path,file))\n",
    "\n",
    "def data_getter(account_soup):\n",
    "    \"\"\" Takes account soup and gets the username, \n",
    "    then the number of likes, photos, videos, audios and subscriber price.\"\"\"\n",
    "    soup = account_soup\n",
    "    out_dict = {}\n",
    "    # get username\n",
    "    username_soup = soup.find('a',class_=\"g-user-realname__wrapper\")# get username\n",
    "    if username_soup is None:\n",
    "        return ''\n",
    "    handle = username_soup.contents[1].string # username with '@'\n",
    "    username = handle[2:-1] # removes spaces at end\n",
    "    out_dict['username'] = username\n",
    "    #get numbers\n",
    "    href_index = '/'+username+'/' # create index for all stuff\n",
    "\n",
    "    search_elements = ('likes','photos','videos','audios')\n",
    "    for elem in search_elements:\n",
    "        href1 = href_index + elem\n",
    "        soup1 = soup.find('a',href=href1)\n",
    "        if soup1 is None:\n",
    "            output = '0'\n",
    "        else:\n",
    "            output=soup1.contents[0].string\n",
    "        out_dict[elem] = output\n",
    "    # get subscription price\n",
    "    sub_class = 'm-fluid-width m-with-icon m-subscribe-btn m-rounded m-border m-profile dark g-btn'\n",
    "    if soup.find('div',class_=sub_class) is None:\n",
    "        out_dict['sub_price'] = 'Not found'\n",
    "    else:\n",
    "        out_dict['sub_price'] = soup.find('div',class_=sub_class).contents[1].contents[0][:-1].split('$')[-1]\n",
    "    \n",
    "    # get \"last seen\" date\n",
    "    sub_class_2 = 'b-profile__user__status__text'\n",
    "    if soup.find('div',class_=sub_class_2) is None or len(list(soup.find('div',class_=sub_class_2))) < 2:\n",
    "        out_dict['last_seen'] = 'Not found'\n",
    "    else:\n",
    "        out_dict['last_seen'] = str(soup.find('div',class_=sub_class_2).contents[1]).split('\"')[1]\n",
    "    \n",
    "    # if number of fans is public, get it\n",
    "    fans_sub_class = 'b-profile__actions__item'\n",
    "    if soup.find('li',class_=fans_sub_class) is None:\n",
    "        out_dict['num_fans'] = 'Not found'\n",
    "    else:\n",
    "    \n",
    "        for item in soup.find_all('li',class_=fans_sub_class):\n",
    "            if 'Fans' in str(item.contents[0]):\n",
    "                out_dict['num_fans'] = str(item).split('\"b-profile__actions__count\">')[1].split('<')[0]\n",
    "    \n",
    "    return out_dict\n",
    "\n",
    "\n",
    "# Get info from the scrapes\n",
    "path = r'/Users/Thomas/Projects/Learning data science/Onlyfans data/scrapes'\n",
    "# delete duplicates\n",
    "duplicate_deleter(path)\n",
    "# get account list\n",
    "out_list = []\n",
    "account_list = [f for f in os.listdir(path) if '.html' in f]\n",
    "for account in account_list:\n",
    "    path_2 = os.path.join(path,account)\n",
    "    soup = BeautifulSoup(open(path_2),'html.parser')\n",
    "    out_dict = data_getter(soup)\n",
    "    out_list.append(out_dict)\n",
    "\n",
    "# save file\n",
    "save_path = r'/Users/Thomas/Projects/Learning data science/Onlyfans data/scraped_data.json'\n",
    "with open(save_path, 'w') as fout:\n",
    "    json.dump(out_list , fout)"
   ]
  },
  {
   "cell_type": "code",
   "execution_count": 2,
   "metadata": {},
   "outputs": [],
   "source": [
    "import seaborn as sns\n",
    "import pandas as pd\n",
    "import matplotlib.pyplot as plt"
   ]
  },
  {
   "cell_type": "code",
   "execution_count": 17,
   "metadata": {},
   "outputs": [
    {
     "data": {
      "text/html": [
       "<div>\n",
       "<style scoped>\n",
       "    .dataframe tbody tr th:only-of-type {\n",
       "        vertical-align: middle;\n",
       "    }\n",
       "\n",
       "    .dataframe tbody tr th {\n",
       "        vertical-align: top;\n",
       "    }\n",
       "\n",
       "    .dataframe thead th {\n",
       "        text-align: right;\n",
       "    }\n",
       "</style>\n",
       "<table border=\"1\" class=\"dataframe\">\n",
       "  <thead>\n",
       "    <tr style=\"text-align: right;\">\n",
       "      <th></th>\n",
       "      <th>audios</th>\n",
       "      <th>last_seen</th>\n",
       "      <th>likes</th>\n",
       "      <th>num_fans</th>\n",
       "      <th>photos</th>\n",
       "      <th>sub_price</th>\n",
       "      <th>username</th>\n",
       "      <th>videos</th>\n",
       "    </tr>\n",
       "  </thead>\n",
       "  <tbody>\n",
       "    <tr>\n",
       "      <th>count</th>\n",
       "      <td>801</td>\n",
       "      <td>801</td>\n",
       "      <td>801</td>\n",
       "      <td>122</td>\n",
       "      <td>801</td>\n",
       "      <td>801</td>\n",
       "      <td>801</td>\n",
       "      <td>801</td>\n",
       "    </tr>\n",
       "    <tr>\n",
       "      <th>unique</th>\n",
       "      <td>17</td>\n",
       "      <td>400</td>\n",
       "      <td>429</td>\n",
       "      <td>69</td>\n",
       "      <td>522</td>\n",
       "      <td>67</td>\n",
       "      <td>801</td>\n",
       "      <td>354</td>\n",
       "    </tr>\n",
       "    <tr>\n",
       "      <th>top</th>\n",
       "      <td>0</td>\n",
       "      <td>Not found</td>\n",
       "      <td>0</td>\n",
       "      <td>Not found</td>\n",
       "      <td>0</td>\n",
       "      <td>Not found</td>\n",
       "      <td>lexi_lluv</td>\n",
       "      <td>0</td>\n",
       "    </tr>\n",
       "    <tr>\n",
       "      <th>freq</th>\n",
       "      <td>727</td>\n",
       "      <td>292</td>\n",
       "      <td>86</td>\n",
       "      <td>48</td>\n",
       "      <td>68</td>\n",
       "      <td>351</td>\n",
       "      <td>1</td>\n",
       "      <td>108</td>\n",
       "    </tr>\n",
       "  </tbody>\n",
       "</table>\n",
       "</div>"
      ],
      "text/plain": [
       "       audios  last_seen likes   num_fans photos  sub_price   username videos\n",
       "count     801        801   801        122    801        801        801    801\n",
       "unique     17        400   429         69    522         67        801    354\n",
       "top         0  Not found     0  Not found      0  Not found  lexi_lluv      0\n",
       "freq      727        292    86         48     68        351          1    108"
      ]
     },
     "execution_count": 17,
     "metadata": {},
     "output_type": "execute_result"
    }
   ],
   "source": [
    "import pandas as pd \n",
    "keys_list = ['audios','last_seen','likes','num_fans','photos','sub_price','username','videos']\n",
    "onlyfans = pd.DataFrame(out_list,columns=keys_list)\n",
    "onlyfans.head()\n",
    "\n",
    "onlyfans.describe()"
   ]
  },
  {
   "cell_type": "code",
   "execution_count": 19,
   "metadata": {},
   "outputs": [
    {
     "data": {
      "text/html": [
       "<div>\n",
       "<style scoped>\n",
       "    .dataframe tbody tr th:only-of-type {\n",
       "        vertical-align: middle;\n",
       "    }\n",
       "\n",
       "    .dataframe tbody tr th {\n",
       "        vertical-align: top;\n",
       "    }\n",
       "\n",
       "    .dataframe thead th {\n",
       "        text-align: right;\n",
       "    }\n",
       "</style>\n",
       "<table border=\"1\" class=\"dataframe\">\n",
       "  <thead>\n",
       "    <tr style=\"text-align: right;\">\n",
       "      <th></th>\n",
       "      <th>audios</th>\n",
       "      <th>likes</th>\n",
       "      <th>num_fans</th>\n",
       "      <th>sub_price</th>\n",
       "      <th>videos</th>\n",
       "    </tr>\n",
       "  </thead>\n",
       "  <tbody>\n",
       "    <tr>\n",
       "      <th>count</th>\n",
       "      <td>801.000000</td>\n",
       "      <td>801.000000</td>\n",
       "      <td>71.000000</td>\n",
       "      <td>438.000000</td>\n",
       "      <td>801.000000</td>\n",
       "    </tr>\n",
       "    <tr>\n",
       "      <th>mean</th>\n",
       "      <td>0.520599</td>\n",
       "      <td>13284.583021</td>\n",
       "      <td>772.112676</td>\n",
       "      <td>11.783402</td>\n",
       "      <td>169.423221</td>\n",
       "    </tr>\n",
       "    <tr>\n",
       "      <th>std</th>\n",
       "      <td>3.188634</td>\n",
       "      <td>37325.105583</td>\n",
       "      <td>1742.633217</td>\n",
       "      <td>7.048244</td>\n",
       "      <td>254.231158</td>\n",
       "    </tr>\n",
       "    <tr>\n",
       "      <th>min</th>\n",
       "      <td>0.000000</td>\n",
       "      <td>0.000000</td>\n",
       "      <td>2.000000</td>\n",
       "      <td>4.990000</td>\n",
       "      <td>0.000000</td>\n",
       "    </tr>\n",
       "    <tr>\n",
       "      <th>25%</th>\n",
       "      <td>0.000000</td>\n",
       "      <td>170.000000</td>\n",
       "      <td>58.000000</td>\n",
       "      <td>7.000000</td>\n",
       "      <td>17.000000</td>\n",
       "    </tr>\n",
       "    <tr>\n",
       "      <th>50%</th>\n",
       "      <td>0.000000</td>\n",
       "      <td>2600.000000</td>\n",
       "      <td>157.000000</td>\n",
       "      <td>9.990000</td>\n",
       "      <td>88.000000</td>\n",
       "    </tr>\n",
       "    <tr>\n",
       "      <th>75%</th>\n",
       "      <td>0.000000</td>\n",
       "      <td>11300.000000</td>\n",
       "      <td>625.000000</td>\n",
       "      <td>13.990000</td>\n",
       "      <td>232.000000</td>\n",
       "    </tr>\n",
       "    <tr>\n",
       "      <th>max</th>\n",
       "      <td>58.000000</td>\n",
       "      <td>539800.000000</td>\n",
       "      <td>12125.000000</td>\n",
       "      <td>50.000000</td>\n",
       "      <td>2363.000000</td>\n",
       "    </tr>\n",
       "  </tbody>\n",
       "</table>\n",
       "</div>"
      ],
      "text/plain": [
       "           audios          likes      num_fans   sub_price       videos\n",
       "count  801.000000     801.000000     71.000000  438.000000   801.000000\n",
       "mean     0.520599   13284.583021    772.112676   11.783402   169.423221\n",
       "std      3.188634   37325.105583   1742.633217    7.048244   254.231158\n",
       "min      0.000000       0.000000      2.000000    4.990000     0.000000\n",
       "25%      0.000000     170.000000     58.000000    7.000000    17.000000\n",
       "50%      0.000000    2600.000000    157.000000    9.990000    88.000000\n",
       "75%      0.000000   11300.000000    625.000000   13.990000   232.000000\n",
       "max     58.000000  539800.000000  12125.000000   50.000000  2363.000000"
      ]
     },
     "execution_count": 19,
     "metadata": {},
     "output_type": "execute_result"
    }
   ],
   "source": [
    "# format the numbers in the dataframe\n",
    "onlyfans['likes'] = onlyfans['likes'].astype(str,errors='ignore').str.replace('K','e3').astype(float,errors='ignore')\n",
    "onlyfans['photos'] = onlyfans['photos'].astype(float,errors='ignore')\n",
    "onlyfans['audios'] = onlyfans['audios'].astype(float,errors='ignore')\n",
    "onlyfans['videos'] = onlyfans['videos'].astype(float,errors='ignore')\n",
    "onlyfans['num_fans'] = pd.to_numeric(onlyfans['num_fans'],errors='coerce')\n",
    "#onlyfans['sub_price'] = onlyfans['sub_price'].map({'Not found': 'NaN'},na_action='ignore')\n",
    "onlyfans['sub_price'] = pd.to_numeric(onlyfans['sub_price'],errors='coerce')\n",
    "onlyfans.describe()"
   ]
  },
  {
   "cell_type": "code",
   "execution_count": 20,
   "metadata": {},
   "outputs": [
    {
     "data": {
      "text/plain": [
       "Text(0.5,1,'Histogram of number of likes per OnlyFans account')"
      ]
     },
     "execution_count": 20,
     "metadata": {},
     "output_type": "execute_result"
    },
    {
     "data": {
      "image/png": "[encoded data removed]",
      "text/plain": [
       "<matplotlib.figure.Figure at 0x1b9f58edd8>"
      ]
     },
     "metadata": {},
     "output_type": "display_data"
    }
   ],
   "source": [
    "onlyfans['likes'].dropna().plot(kind='hist',bins=30)\n",
    "plt.xlabel('Number of likes')\n",
    "plt.title('Histogram of number of likes per OnlyFans account')"
   ]
  },
  {
   "cell_type": "code",
   "execution_count": 21,
   "metadata": {},
   "outputs": [
    {
     "data": {
      "text/plain": [
       "Text(0.5,1,'Histogram of subscription price for OnlyFans accounts')"
      ]
     },
     "execution_count": 21,
     "metadata": {},
     "output_type": "execute_result"
    },
    {
     "data": {
      "image/png": "[encoded data removed]",
      "text/plain": [
       "<matplotlib.figure.Figure at 0x1b9f60e240>"
      ]
     },
     "metadata": {},
     "output_type": "display_data"
    }
   ],
   "source": [
    "onlyfans['sub_price'].dropna().plot(kind='hist',bins=30)\n",
    "plt.xlabel('subscription price ($)')\n",
    "plt.title('Histogram of subscription price for OnlyFans accounts')\n",
    "# sub price is pretty consistent"
   ]
  },
  {
   "cell_type": "code",
   "execution_count": 22,
   "metadata": {},
   "outputs": [
    {
     "data": {
      "text/plain": [
       "<matplotlib.axes._subplots.AxesSubplot at 0x1b9f7a5d30>"
      ]
     },
     "execution_count": 22,
     "metadata": {},
     "output_type": "execute_result"
    },
    {
     "data": {
      "image/png": "[encoded data removed]",
      "text/plain": [
       "<matplotlib.figure.Figure at 0x1b9f70dda0>"
      ]
     },
     "metadata": {},
     "output_type": "display_data"
    }
   ],
   "source": [
    "onlyfans['num_fans'].dropna().plot(kind='hist',bins=30)\n",
    "# number of fans if posted"
   ]
  },
  {
   "cell_type": "code",
   "execution_count": 23,
   "metadata": {},
   "outputs": [
    {
     "data": {
      "text/plain": [
       "<seaborn.axisgrid.JointGrid at 0x1b9f80bcc0>"
      ]
     },
     "execution_count": 23,
     "metadata": {},
     "output_type": "execute_result"
    },
    {
     "data": {
      "image/png": "[encoded data removed]",
      "text/plain": [
       "<matplotlib.figure.Figure at 0x1b9f80be80>"
      ]
     },
     "metadata": {},
     "output_type": "display_data"
    }
   ],
   "source": [
    "sns.jointplot(data=onlyfans,x='likes',y='sub_price',kind='scatter')"
   ]
  },
  {
   "cell_type": "code",
   "execution_count": 42,
   "metadata": {},
   "outputs": [
    {
     "data": {
      "text/html": [
       "<div>\n",
       "<style scoped>\n",
       "    .dataframe tbody tr th:only-of-type {\n",
       "        vertical-align: middle;\n",
       "    }\n",
       "\n",
       "    .dataframe tbody tr th {\n",
       "        vertical-align: top;\n",
       "    }\n",
       "\n",
       "    .dataframe thead th {\n",
       "        text-align: right;\n",
       "    }\n",
       "</style>\n",
       "<table border=\"1\" class=\"dataframe\">\n",
       "  <thead>\n",
       "    <tr style=\"text-align: right;\">\n",
       "      <th></th>\n",
       "      <th>audios</th>\n",
       "      <th>likes</th>\n",
       "      <th>num_fans</th>\n",
       "      <th>sub_price</th>\n",
       "      <th>videos</th>\n",
       "      <th>num_posts</th>\n",
       "      <th>likes_per_post</th>\n",
       "      <th>revenue</th>\n",
       "    </tr>\n",
       "  </thead>\n",
       "  <tbody>\n",
       "    <tr>\n",
       "      <th>count</th>\n",
       "      <td>801.000000</td>\n",
       "      <td>801.000000</td>\n",
       "      <td>729.000000</td>\n",
       "      <td>803.000000</td>\n",
       "      <td>801.000000</td>\n",
       "      <td>803.000000</td>\n",
       "      <td>803.000000</td>\n",
       "      <td>729.000000</td>\n",
       "    </tr>\n",
       "    <tr>\n",
       "      <th>mean</th>\n",
       "      <td>0.520599</td>\n",
       "      <td>13284.583021</td>\n",
       "      <td>179.754458</td>\n",
       "      <td>8.695492</td>\n",
       "      <td>169.423221</td>\n",
       "      <td>169.520548</td>\n",
       "      <td>102.872241</td>\n",
       "      <td>1256.786612</td>\n",
       "    </tr>\n",
       "    <tr>\n",
       "      <th>std</th>\n",
       "      <td>3.188634</td>\n",
       "      <td>37325.105583</td>\n",
       "      <td>828.696927</td>\n",
       "      <td>6.206874</td>\n",
       "      <td>254.231158</td>\n",
       "      <td>254.919718</td>\n",
       "      <td>573.297312</td>\n",
       "      <td>4616.222775</td>\n",
       "    </tr>\n",
       "    <tr>\n",
       "      <th>min</th>\n",
       "      <td>0.000000</td>\n",
       "      <td>0.000000</td>\n",
       "      <td>0.000000</td>\n",
       "      <td>4.990000</td>\n",
       "      <td>0.000000</td>\n",
       "      <td>0.000000</td>\n",
       "      <td>0.000000</td>\n",
       "      <td>0.000000</td>\n",
       "    </tr>\n",
       "    <tr>\n",
       "      <th>25%</th>\n",
       "      <td>0.000000</td>\n",
       "      <td>170.000000</td>\n",
       "      <td>10.000000</td>\n",
       "      <td>4.990000</td>\n",
       "      <td>17.000000</td>\n",
       "      <td>17.000000</td>\n",
       "      <td>4.165669</td>\n",
       "      <td>64.870000</td>\n",
       "    </tr>\n",
       "    <tr>\n",
       "      <th>50%</th>\n",
       "      <td>0.000000</td>\n",
       "      <td>2600.000000</td>\n",
       "      <td>30.000000</td>\n",
       "      <td>4.990000</td>\n",
       "      <td>88.000000</td>\n",
       "      <td>88.000000</td>\n",
       "      <td>22.513089</td>\n",
       "      <td>214.570000</td>\n",
       "    </tr>\n",
       "    <tr>\n",
       "      <th>75%</th>\n",
       "      <td>0.000000</td>\n",
       "      <td>11300.000000</td>\n",
       "      <td>99.000000</td>\n",
       "      <td>10.000000</td>\n",
       "      <td>232.000000</td>\n",
       "      <td>232.000000</td>\n",
       "      <td>68.713041</td>\n",
       "      <td>825.000000</td>\n",
       "    </tr>\n",
       "    <tr>\n",
       "      <th>max</th>\n",
       "      <td>58.000000</td>\n",
       "      <td>539800.000000</td>\n",
       "      <td>12400.000000</td>\n",
       "      <td>50.000000</td>\n",
       "      <td>2363.000000</td>\n",
       "      <td>2363.000000</td>\n",
       "      <td>12400.000000</td>\n",
       "      <td>61876.000000</td>\n",
       "    </tr>\n",
       "  </tbody>\n",
       "</table>\n",
       "</div>"
      ],
      "text/plain": [
       "           audios          likes      num_fans   sub_price       videos  \\\n",
       "count  801.000000     801.000000    729.000000  803.000000   801.000000   \n",
       "mean     0.520599   13284.583021    179.754458    8.695492   169.423221   \n",
       "std      3.188634   37325.105583    828.696927    6.206874   254.231158   \n",
       "min      0.000000       0.000000      0.000000    4.990000     0.000000   \n",
       "25%      0.000000     170.000000     10.000000    4.990000    17.000000   \n",
       "50%      0.000000    2600.000000     30.000000    4.990000    88.000000   \n",
       "75%      0.000000   11300.000000     99.000000   10.000000   232.000000   \n",
       "max     58.000000  539800.000000  12400.000000   50.000000  2363.000000   \n",
       "\n",
       "         num_posts  likes_per_post       revenue  \n",
       "count   803.000000      803.000000    729.000000  \n",
       "mean    169.520548      102.872241   1256.786612  \n",
       "std     254.919718      573.297312   4616.222775  \n",
       "min       0.000000        0.000000      0.000000  \n",
       "25%      17.000000        4.165669     64.870000  \n",
       "50%      88.000000       22.513089    214.570000  \n",
       "75%     232.000000       68.713041    825.000000  \n",
       "max    2363.000000    12400.000000  61876.000000  "
      ]
     },
     "execution_count": 42,
     "metadata": {},
     "output_type": "execute_result"
    }
   ],
   "source": [
    "# get number of likes per post\n",
    "onlyfans['num_posts'] = onlyfans[['videos','audios','photos']].sum(axis=1)\n",
    "onlyfans['likes_per_post'] = onlyfans['likes'] / onlyfans['num_posts'].astype(float,errors='ignore')\n",
    "onlyfans['likes_per_post'] = onlyfans['likes_per_post'].replace([np.inf, -np.inf], 0)\n",
    "onlyfans['likes_per_post'] = onlyfans['likes_per_post'].fillna(0)\n",
    "onlyfans.describe()"
   ]
  },
  {
   "cell_type": "code",
   "execution_count": 30,
   "metadata": {},
   "outputs": [
    {
     "data": {
      "text/plain": [
       "<matplotlib.axes._subplots.AxesSubplot at 0x1b9fe6d358>"
      ]
     },
     "execution_count": 30,
     "metadata": {},
     "output_type": "execute_result"
    },
    {
     "data": {
      "image/png": "[encoded data removed]",
      "text/plain": [
       "<matplotlib.figure.Figure at 0x1b9f80b518>"
      ]
     },
     "metadata": {},
     "output_type": "display_data"
    }
   ],
   "source": [
    "sns.distplot(onlyfans['likes_per_post'].dropna(),kde=False,)\n",
    "# plot number of likes per post"
   ]
  },
  {
   "cell_type": "code",
   "execution_count": 11,
   "metadata": {},
   "outputs": [
    {
     "data": {
      "text/html": [
       "<div>\n",
       "<style scoped>\n",
       "    .dataframe tbody tr th:only-of-type {\n",
       "        vertical-align: middle;\n",
       "    }\n",
       "\n",
       "    .dataframe tbody tr th {\n",
       "        vertical-align: top;\n",
       "    }\n",
       "\n",
       "    .dataframe thead th {\n",
       "        text-align: right;\n",
       "    }\n",
       "</style>\n",
       "<table border=\"1\" class=\"dataframe\">\n",
       "  <thead>\n",
       "    <tr style=\"text-align: right;\">\n",
       "      <th></th>\n",
       "      <th>audios</th>\n",
       "      <th>last_seen</th>\n",
       "      <th>likes</th>\n",
       "      <th>num_fans</th>\n",
       "      <th>photos</th>\n",
       "      <th>sub_price</th>\n",
       "      <th>username</th>\n",
       "      <th>videos</th>\n",
       "      <th>num_posts</th>\n",
       "      <th>likes_per_post</th>\n",
       "    </tr>\n",
       "  </thead>\n",
       "  <tbody>\n",
       "    <tr>\n",
       "      <th>13</th>\n",
       "      <td>0.0</td>\n",
       "      <td>Apr 6, 3:13 pm</td>\n",
       "      <td>539800.0</td>\n",
       "      <td>NaN</td>\n",
       "      <td>203</td>\n",
       "      <td>NaN</td>\n",
       "      <td>jemwolfie</td>\n",
       "      <td>78.0</td>\n",
       "      <td>78.0</td>\n",
       "      <td>6920.512821</td>\n",
       "    </tr>\n",
       "  </tbody>\n",
       "</table>\n",
       "</div>"
      ],
      "text/plain": [
       "    audios       last_seen     likes  num_fans photos  sub_price   username  \\\n",
       "13     0.0  Apr 6, 3:13 pm  539800.0       NaN    203        NaN  jemwolfie   \n",
       "\n",
       "    videos  num_posts  likes_per_post  \n",
       "13    78.0       78.0     6920.512821  "
      ]
     },
     "execution_count": 11,
     "metadata": {},
     "output_type": "execute_result"
    }
   ],
   "source": [
    "# jem wolfe\n",
    "onlyfans[onlyfans['likes'] == onlyfans['likes'].max()]"
   ]
  },
  {
   "cell_type": "code",
   "execution_count": 43,
   "metadata": {},
   "outputs": [
    {
     "data": {
      "text/html": [
       "<div>\n",
       "<style scoped>\n",
       "    .dataframe tbody tr th:only-of-type {\n",
       "        vertical-align: middle;\n",
       "    }\n",
       "\n",
       "    .dataframe tbody tr th {\n",
       "        vertical-align: top;\n",
       "    }\n",
       "\n",
       "    .dataframe thead th {\n",
       "        text-align: right;\n",
       "    }\n",
       "</style>\n",
       "<table border=\"1\" class=\"dataframe\">\n",
       "  <thead>\n",
       "    <tr style=\"text-align: right;\">\n",
       "      <th></th>\n",
       "      <th>audios</th>\n",
       "      <th>likes</th>\n",
       "      <th>num_fans</th>\n",
       "      <th>sub_price</th>\n",
       "      <th>videos</th>\n",
       "      <th>num_posts</th>\n",
       "      <th>likes_per_post</th>\n",
       "      <th>revenue</th>\n",
       "    </tr>\n",
       "  </thead>\n",
       "  <tbody>\n",
       "    <tr>\n",
       "      <th>count</th>\n",
       "      <td>801.000000</td>\n",
       "      <td>801.000000</td>\n",
       "      <td>803.000000</td>\n",
       "      <td>803.000000</td>\n",
       "      <td>801.000000</td>\n",
       "      <td>803.000000</td>\n",
       "      <td>803.000000</td>\n",
       "      <td>729.000000</td>\n",
       "    </tr>\n",
       "    <tr>\n",
       "      <th>mean</th>\n",
       "      <td>0.520599</td>\n",
       "      <td>13284.583021</td>\n",
       "      <td>163.189290</td>\n",
       "      <td>8.695492</td>\n",
       "      <td>169.423221</td>\n",
       "      <td>169.520548</td>\n",
       "      <td>102.872241</td>\n",
       "      <td>1256.786612</td>\n",
       "    </tr>\n",
       "    <tr>\n",
       "      <th>std</th>\n",
       "      <td>3.188634</td>\n",
       "      <td>37325.105583</td>\n",
       "      <td>791.252373</td>\n",
       "      <td>6.206874</td>\n",
       "      <td>254.231158</td>\n",
       "      <td>254.919718</td>\n",
       "      <td>573.297312</td>\n",
       "      <td>4616.222775</td>\n",
       "    </tr>\n",
       "    <tr>\n",
       "      <th>min</th>\n",
       "      <td>0.000000</td>\n",
       "      <td>0.000000</td>\n",
       "      <td>0.000000</td>\n",
       "      <td>4.990000</td>\n",
       "      <td>0.000000</td>\n",
       "      <td>0.000000</td>\n",
       "      <td>0.000000</td>\n",
       "      <td>0.000000</td>\n",
       "    </tr>\n",
       "    <tr>\n",
       "      <th>25%</th>\n",
       "      <td>0.000000</td>\n",
       "      <td>170.000000</td>\n",
       "      <td>5.000000</td>\n",
       "      <td>4.990000</td>\n",
       "      <td>17.000000</td>\n",
       "      <td>17.000000</td>\n",
       "      <td>4.165669</td>\n",
       "      <td>64.870000</td>\n",
       "    </tr>\n",
       "    <tr>\n",
       "      <th>50%</th>\n",
       "      <td>0.000000</td>\n",
       "      <td>2600.000000</td>\n",
       "      <td>26.000000</td>\n",
       "      <td>4.990000</td>\n",
       "      <td>88.000000</td>\n",
       "      <td>88.000000</td>\n",
       "      <td>22.513089</td>\n",
       "      <td>214.570000</td>\n",
       "    </tr>\n",
       "    <tr>\n",
       "      <th>75%</th>\n",
       "      <td>0.000000</td>\n",
       "      <td>11300.000000</td>\n",
       "      <td>86.000000</td>\n",
       "      <td>10.000000</td>\n",
       "      <td>232.000000</td>\n",
       "      <td>232.000000</td>\n",
       "      <td>68.713041</td>\n",
       "      <td>825.000000</td>\n",
       "    </tr>\n",
       "    <tr>\n",
       "      <th>max</th>\n",
       "      <td>58.000000</td>\n",
       "      <td>539800.000000</td>\n",
       "      <td>12400.000000</td>\n",
       "      <td>50.000000</td>\n",
       "      <td>2363.000000</td>\n",
       "      <td>2363.000000</td>\n",
       "      <td>12400.000000</td>\n",
       "      <td>61876.000000</td>\n",
       "    </tr>\n",
       "  </tbody>\n",
       "</table>\n",
       "</div>"
      ],
      "text/plain": [
       "           audios          likes      num_fans   sub_price       videos  \\\n",
       "count  801.000000     801.000000    803.000000  803.000000   801.000000   \n",
       "mean     0.520599   13284.583021    163.189290    8.695492   169.423221   \n",
       "std      3.188634   37325.105583    791.252373    6.206874   254.231158   \n",
       "min      0.000000       0.000000      0.000000    4.990000     0.000000   \n",
       "25%      0.000000     170.000000      5.000000    4.990000    17.000000   \n",
       "50%      0.000000    2600.000000     26.000000    4.990000    88.000000   \n",
       "75%      0.000000   11300.000000     86.000000   10.000000   232.000000   \n",
       "max     58.000000  539800.000000  12400.000000   50.000000  2363.000000   \n",
       "\n",
       "         num_posts  likes_per_post       revenue  \n",
       "count   803.000000      803.000000    729.000000  \n",
       "mean    169.520548      102.872241   1256.786612  \n",
       "std     254.919718      573.297312   4616.222775  \n",
       "min       0.000000        0.000000      0.000000  \n",
       "25%      17.000000        4.165669     64.870000  \n",
       "50%      88.000000       22.513089    214.570000  \n",
       "75%     232.000000       68.713041    825.000000  \n",
       "max    2363.000000    12400.000000  61876.000000  "
      ]
     },
     "execution_count": 43,
     "metadata": {},
     "output_type": "execute_result"
    }
   ],
   "source": [
    "# if number of fans is nan, replace with avg likes per post\n",
    "onlyfans['num_fans'] = onlyfans['num_fans'].fillna(onlyfans['likes_per_post'],axis=0)\n",
    "onlyfans['num_fans'] = onlyfans['num_fans'].apply(np.round)\n",
    "onlyfans['num_fans'].replace(0.0,np.nan)\n",
    "\n",
    "# if sub-price is nan replace with minimum\n",
    "onlyfans['sub_price'] = onlyfans['sub_price'].fillna(4.99,axis=0)\n",
    "\n",
    "onlyfans.describe()"
   ]
  },
  {
   "cell_type": "code",
   "execution_count": 44,
   "metadata": {
    "scrolled": true
   },
   "outputs": [
    {
     "data": {
      "text/plain": [
       "<matplotlib.axes._subplots.AxesSubplot at 0x1ba04c9a20>"
      ]
     },
     "execution_count": 44,
     "metadata": {},
     "output_type": "execute_result"
    },
    {
     "data": {
      "image/png": "[encoded data removed]",
      "text/plain": [
       "<matplotlib.figure.Figure at 0x1ba01f7978>"
      ]
     },
     "metadata": {},
     "output_type": "display_data"
    }
   ],
   "source": [
    "onlyfans['num_fans'].dropna().plot(kind='hist',bins=30)"
   ]
  },
  {
   "cell_type": "code",
   "execution_count": null,
   "metadata": {},
   "outputs": [],
   "source": []
  },
  {
   "cell_type": "code",
   "execution_count": 53,
   "metadata": {},
   "outputs": [
    {
     "data": {
      "text/plain": [
       "count      803.000000\n",
       "mean      1140.968169\n",
       "std       4413.117746\n",
       "min          0.000000\n",
       "25%         34.930000\n",
       "50%        179.820000\n",
       "75%        728.355000\n",
       "max      61876.000000\n",
       "Name: revenue, dtype: float64"
      ]
     },
     "execution_count": 53,
     "metadata": {},
     "output_type": "execute_result"
    },
    {
     "data": {
      "image/png": "[encoded data removed]",
      "text/plain": [
       "<matplotlib.figure.Figure at 0x1ba0775780>"
      ]
     },
     "metadata": {},
     "output_type": "display_data"
    }
   ],
   "source": [
    "# monthly revenue\n",
    "onlyfans['revenue'] = onlyfans['sub_price'] * onlyfans['num_fans']\n",
    "onlyfans['revenue'].dropna().plot(kind='hist',bins=50)\n",
    "plt.xlabel('Monthly revenue ($)')\n",
    "plt.ylabel('Number of Creators')\n",
    "onlyfans['revenue'].describe()"
   ]
  },
  {
   "cell_type": "code",
   "execution_count": 35,
   "metadata": {},
   "outputs": [],
   "source": [
    "# how much is jem wolfe making per month?\n",
    "#onlyfans['revenue'].value_counts()"
   ]
  },
  {
   "cell_type": "code",
   "execution_count": 50,
   "metadata": {},
   "outputs": [
    {
     "name": "stdout",
     "output_type": "stream",
     "text": [
      "0.06753566130898599\n",
      "top 10%: 0.7331723607522851\n",
      "top 1%: 0.33232371834612423\n",
      "top 20%: 0.8576054960380592\n"
     ]
    }
   ],
   "source": [
    "# what percentaige of revenue is top account?\n",
    "total_rev = onlyfans['revenue'].sum()\n",
    "num_acc = onlyfans['revenue'].count()\n",
    "max_rev = onlyfans['revenue'].max()\n",
    "top_10p = onlyfans['revenue'].nlargest(int(np.floor(onlyfans['revenue'].count()*0.10))).sum()\n",
    "top_1p = onlyfans['revenue'].nlargest(int(np.floor(onlyfans['revenue'].count()*0.01))).sum()\n",
    "top_20p = onlyfans['revenue'].nlargest(int(np.floor(onlyfans['revenue'].count()*0.2))).sum()\n",
    "print(max_rev/total_rev)\n",
    "print('top 10%:', top_10p/total_rev)\n",
    "print('top 1%:', top_1p/total_rev)\n",
    "print('top 20%:',top_20p/total_rev)\n",
    "# top 10% make 73% of the total revenue\n",
    "# top 1% makes 34% of total revenue"
   ]
  },
  {
   "cell_type": "code",
   "execution_count": 51,
   "metadata": {},
   "outputs": [
    {
     "name": "stdout",
     "output_type": "stream",
     "text": [
      "count      803.000000\n",
      "mean      1140.968169\n",
      "std       4413.117746\n",
      "min          0.000000\n",
      "25%         34.930000\n",
      "50%        179.820000\n",
      "75%        728.355000\n",
      "max      61876.000000\n",
      "Name: revenue, dtype: float64\n"
     ]
    },
    {
     "data": {
      "image/png": "[encoded data removed]",
      "text/plain": [
       "<matplotlib.figure.Figure at 0x1ba04cbb38>"
      ]
     },
     "metadata": {},
     "output_type": "display_data"
    }
   ],
   "source": [
    "onlyfans['revenue'].nsmallest(int(np.floor(onlyfans['revenue'].count()*0.5))).plot(kind='hist',bins=30)\n",
    "#plt.style.use('viridis')\n",
    "plt.xlabel('Monthly Revenue, $ (bottom 50% of accts)')\n",
    "print(onlyfans['revenue'].describe())"
   ]
  },
  {
   "cell_type": "code",
   "execution_count": 52,
   "metadata": {},
   "outputs": [
    {
     "name": "stdout",
     "output_type": "stream",
     "text": [
      "0.8288172454278665\n"
     ]
    }
   ],
   "source": [
    "def gini(array):\n",
    "    \"\"\"Calculate the Gini coefficient of a numpy array.\"\"\"\n",
    "    # based on bottom eq: http://www.statsdirect.com/help/content/image/stat0206_wmf.gif\n",
    "    # from: http://www.statsdirect.com/help/default.htm#nonparametric_methods/gini.htm\n",
    "    array = array.flatten() #all values are treated equally, arrays must be 1d\n",
    "    if np.amin(array) < 0:\n",
    "        array -= np.amin(array) #values cannot be negative\n",
    "    array += 0.0000001 #values cannot be 0\n",
    "    array = np.sort(array) #values must be sorted\n",
    "    index = np.arange(1,array.shape[0]+1) #index per array element\n",
    "    n = array.shape[0]#number of array elements\n",
    "    return ((np.sum((2 * index - n  - 1) * array)) / (n * np.sum(array))) #Gini coefficient\n",
    "\n",
    "print(gini(np.array(onlyfans['revenue'].dropna())))\n",
    "# gini coefficient of 0.89"
   ]
  },
  {
   "cell_type": "code",
   "execution_count": 40,
   "metadata": {},
   "outputs": [
    {
     "name": "stdout",
     "output_type": "stream",
     "text": [
      "Top-down estimate of yearly revenue is: 90.48863604938269\n",
      "251.35732235939633\n",
      "8.6954919053548\n",
      "Bottom up estimate of Yearly Revenue is:  104.34590286425761\n"
     ]
    }
   ],
   "source": [
    "# get total revenue of onlyfans\n",
    "n_creators = 30000 # half of stated in https://thewest.com.au/news/wa/wa-model-jem-wolfie-breaks-social-media-makes-millions-on-onlyfans-ng-b881158181z?fbclid=IwAR3ALMztvknNbHKdY7_pHWc9SwNTOfUjTbKKxdncIJZCa4o3JqMINZptHao\n",
    "rev_per_creator = onlyfans['revenue'].mean() * 0.2\n",
    "total_rev_month = n_creators * rev_per_creator\n",
    "total_rev = total_rev_month * 12\n",
    "print('Top-down estimate of yearly revenue is:',total_rev / 1000000)\n",
    "print(rev_per_creator)\n",
    "# bottom up calc\n",
    "n_paying_users = 5e6 # half of 10m users, extrapolated from https://thewest.com.au/news/wa/wa-model-jem-wolfie-breaks-social-media-makes-millions-on-onlyfans-ng-b881158181z?fbclid=IwAR3ALMztvknNbHKdY7_pHWc9SwNTOfUjTbKKxdncIJZCa4o3JqMINZptHao\n",
    "mean_sub_price = onlyfans['sub_price'].mean() # about $8.5 a month\n",
    "print(mean_sub_price)\n",
    "monthly_rev = mean_sub_price*n_paying_users * 0.2\n",
    "yearly_rev = 12 * monthly_rev\n",
    "print('Bottom up estimate of Yearly Revenue is: ',yearly_rev / 1e6)"
   ]
  },
  {
   "cell_type": "markdown",
   "metadata": {},
   "source": [
    "# Below is legacy code"
   ]
  },
  {
   "cell_type": "code",
   "execution_count": null,
   "metadata": {},
   "outputs": [],
   "source": [
    "\"\"\"\n",
    "In pseudocode:\n",
    "Sikuli scraping dumps account html files into 'scrapes' folder\n",
    "This script will:\n",
    "1. delete all duplicate accounts in the 'scrapes' folder\n",
    "2. for each account:\n",
    "3. extract the number of posts, number of likes, number of videos, price to subscribe and subscribers (if poss)\n",
    "4. save this in a dictionary indexed by account name\n",
    "\"\"\""
   ]
  },
  {
   "cell_type": "code",
   "execution_count": null,
   "metadata": {},
   "outputs": [],
   "source": []
  },
  {
   "cell_type": "code",
   "execution_count": null,
   "metadata": {},
   "outputs": [],
   "source": []
  },
  {
   "cell_type": "code",
   "execution_count": null,
   "metadata": {},
   "outputs": [],
   "source": []
  },
  {
   "cell_type": "code",
   "execution_count": 61,
   "metadata": {},
   "outputs": [
    {
     "name": "stdout",
     "output_type": "stream",
     "text": [
      "[{'username': 'noelleeaston', 'likes': '14.3K', 'photos': '1034', 'videos': '301', 'audios': '4', 'sub_price': '9.99', 'last_seen': 'Not found', 'num_fans': '157'}, {'username': 'abi_monroe', 'likes': '625', 'photos': '48', 'videos': '2', 'audios': '0', 'sub_price': 'Not found', 'last_seen': 'Sep 13, 3:23 pm'}, {'username': 'adrenalynntoao', 'likes': '9.1K', 'photos': '833', 'videos': '160', 'audios': '0', 'sub_price': '7.95', 'last_seen': 'Mar 20, 6:30 pm'}]\n"
     ]
    }
   ],
   "source": [
    "# This test code now runs\n",
    "path = r'/Users/Thomas/Projects/Learning data science/Onlyfans data/scrapes'\n",
    "test_accounts = [r'_test_✨NoelleEaston✨---Onlyfans.html',r'_test_Abi-Monroe---Onlyfans.html','_test_Adrenalynn-TOAO---Onlyfans.html']\n",
    "out_list = []\n",
    "for account in test_accounts:\n",
    "    path_2 = os.path.join(path,account)\n",
    "    soup = BeautifulSoup(open(path_2),'html.parser')\n",
    "    out_dict = data_getter(soup)\n",
    "    out_list.append(out_dict)\n",
    "print(out_list)"
   ]
  },
  {
   "cell_type": "code",
   "execution_count": 42,
   "metadata": {},
   "outputs": [
    {
     "name": "stdout",
     "output_type": "stream",
     "text": [
      "Username is:  shawnalenee\n",
      "222\n"
     ]
    }
   ],
   "source": [
    "# test this out first\n",
    "path = r'/Users/Thomas/Projects/Learning data science/Onlyfans data/scrapes'\n",
    "test_account = '_test_🌿-Shawna-🌿---Onlyfans.html'\n",
    "path_to_account = os.path.join(path,test_account)\n",
    "soup = BeautifulSoup(open(path_to_account),'html.parser')\n",
    "\n",
    "# get account username\n",
    "username_soup = soup.find('a',class_=\"g-user-realname__wrapper\")# get username\n",
    "handle = username_soup.contents[1].string # username with '@'\n",
    "username = handle[2:-1] # removes spaces at end\n",
    "print('Username is: ',username)\n",
    "\n",
    "# get numbers\n",
    "href_index = '/'+username+'/' # create index for all stuff\n",
    "\n",
    "search_elements = ('likes','photos','videos','audios')\n",
    "out_dict = {}\n",
    "for elem in search_elements:\n",
    "    href1 = href_index + elem\n",
    "    soup1 = soup.find('a',href=href1)\n",
    "    if soup1 is None:\n",
    "        output = '0'\n",
    "    else:\n",
    "        output=soup1.contents[0].string\n",
    "    out_dict[elem] = output\n",
    "# get subscription price\n",
    "sub_class = 'm-fluid-width m-with-icon m-subscribe-btn m-rounded m-border m-profile dark g-btn'\n",
    "out_dict['sub_price'] = soup.find('div',class_=sub_class).contents[1].contents[0][:-1].split('$')[-1]\n",
    "out_dict['username'] = username\n",
    "# get last seen\n",
    "sub_class_2 = 'b-profile__user__status__text'\n",
    "if soup.find('div',class_=sub_class_2) is None:\n",
    "    out_dict['last_seen'] = 'Not found'\n",
    "else:\n",
    "    out_dict['last_seen'] = soup.find('div',class_=sub_class_2).contents\n",
    "\n",
    "# get num fans\n",
    "fans_sub_class = 'b-profile__actions__item'\n",
    "if soup.find('li',class_=fans_sub_class) is None:\n",
    "    out_dict['num_fans'] = 'Not found'\n",
    "\n",
    "for item in soup.find_all('li',class_=fans_sub_class):\n",
    "    if 'Fans' in str(item.contents[0]):\n",
    "        out_dict['num_fans'] = str(item).split('\"b-profile__actions__count\">')[1].split('<')[0]"
   ]
  },
  {
   "cell_type": "code",
   "execution_count": null,
   "metadata": {},
   "outputs": [],
   "source": [
    "#legacy code\n",
    "# get likes\n",
    "href_likes = href_index + 'likes'\n",
    "likes_soup = soup.find('a',href=href_likes)\n",
    "likes = likes_soup.contents[0].string\n",
    "# get photos\n",
    "href_photos = href_index + 'photos'\n",
    "photos_soup = soup.find('a',href=href_photos)\n",
    "photos=photos_soup.contents[0].string\n",
    "# get videos\n",
    "href_videos = href_index + 'videos'\n",
    "videos_soup = soup.find('a',href=href_videos)\n",
    "videos=videos_soup.contents[0].string\n",
    "videos"
   ]
  },
  {
   "cell_type": "code",
   "execution_count": null,
   "metadata": {},
   "outputs": [],
   "source": [
    "\"\"\" Next step is to write a cleaning script which deletes all the duplicates \n",
    "Pseudo code\n",
    "1. for list of files\n",
    "if there are any numbers in brackets (#)\n",
    "delete those files\"\"\""
   ]
  },
  {
   "cell_type": "code",
   "execution_count": 90,
   "metadata": {},
   "outputs": [],
   "source": [
    "# run this to delete duplicates\n",
    "\n",
    "path = r'/Users/Thomas/Projects/Learning data science/Onlyfans data/scrapes'\n",
    "files = [f for f in os.listdir(path) if '.html' in f]\n",
    "# get list of duplicates\n",
    "delete_list = []\n",
    "for file in files:\n",
    "    if '(' and ')' in file:\n",
    "        os.remove(os.path.join(path,file))"
   ]
  },
  {
   "cell_type": "code",
   "execution_count": 1,
   "metadata": {},
   "outputs": [
    {
     "ename": "NameError",
     "evalue": "name 'onlyfans' is not defined",
     "output_type": "error",
     "traceback": [
      "\u001b[0;31m---------------------------------------------------------------------------\u001b[0m",
      "\u001b[0;31mNameError\u001b[0m                                 Traceback (most recent call last)",
      "\u001b[0;32m<ipython-input-1-10068c88db28>\u001b[0m in \u001b[0;36m<module>\u001b[0;34m()\u001b[0m\n\u001b[0;32m----> 1\u001b[0;31m \u001b[0monlyfans\u001b[0m\u001b[0;34m.\u001b[0m\u001b[0mdescribe\u001b[0m\u001b[0;34m(\u001b[0m\u001b[0;34m)\u001b[0m\u001b[0;34m\u001b[0m\u001b[0m\n\u001b[0m",
      "\u001b[0;31mNameError\u001b[0m: name 'onlyfans' is not defined"
     ]
    }
   ],
   "source": [
    "onlyfans.describe()"
   ]
  },
  {
   "cell_type": "code",
   "execution_count": null,
   "metadata": {},
   "outputs": [],
   "source": []
  }
 ],
 "metadata": {
  "kernelspec": {
   "display_name": "Python 3",
   "language": "python",
   "name": "python3"
  },
  "language_info": {
   "codemirror_mode": {
    "name": "ipython",
    "version": 3
   },
   "file_extension": ".py",
   "mimetype": "text/x-python",
   "name": "python",
   "nbconvert_exporter": "python",
   "pygments_lexer": "ipython3",
   "version": "3.6.4"
  }
 },
 "nbformat": 4,
 "nbformat_minor": 2
}
